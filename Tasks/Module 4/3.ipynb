{
  "nbformat": 4,
  "nbformat_minor": 0,
  "metadata": {
    "colab": {
      "provenance": [],
      "authorship_tag": "ABX9TyNBs/1dFAMHmTLTwOC0QtkR",
      "include_colab_link": true
    },
    "kernelspec": {
      "name": "python3",
      "display_name": "Python 3"
    },
    "language_info": {
      "name": "python"
    }
  },
  "cells": [
    {
      "cell_type": "markdown",
      "metadata": {
        "id": "view-in-github",
        "colab_type": "text"
      },
      "source": [
        "<a href=\"https://colab.research.google.com/github/JustDuck2010/Univ/blob/main/Tasks/Module%204/3.ipynb\" target=\"_parent\"><img src=\"https://colab.research.google.com/assets/colab-badge.svg\" alt=\"Open In Colab\"/></a>"
      ]
    },
    {
      "cell_type": "code",
      "source": [
        "a = int(input())\n",
        "if a > 0:\n",
        "\tprint(1)\n",
        "elif a < 0:\n",
        "\tprint(-1)\n",
        "else:\n",
        "\tprint(0)"
      ],
      "metadata": {
        "colab": {
          "base_uri": "https://localhost:8080/"
        },
        "id": "E4kCvOKzsHqn",
        "outputId": "3b26f250-528f-42ce-b1f3-4fb1a2e3f05c"
      },
      "execution_count": 5,
      "outputs": [
        {
          "output_type": "stream",
          "name": "stdout",
          "text": [
            "-500\n",
            "Да\n"
          ]
        }
      ]
    }
  ]
}