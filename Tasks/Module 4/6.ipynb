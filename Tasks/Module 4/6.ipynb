{
  "nbformat": 4,
  "nbformat_minor": 0,
  "metadata": {
    "colab": {
      "provenance": [],
      "authorship_tag": "ABX9TyN7KdfUyqOuhLx4k4gOxbLl",
      "include_colab_link": true
    },
    "kernelspec": {
      "name": "python3",
      "display_name": "Python 3"
    },
    "language_info": {
      "name": "python"
    }
  },
  "cells": [
    {
      "cell_type": "markdown",
      "metadata": {
        "id": "view-in-github",
        "colab_type": "text"
      },
      "source": [
        "<a href=\"https://colab.research.google.com/github/JustDuck2010/Univ/blob/main/Tasks/Module%204/6.ipynb\" target=\"_parent\"><img src=\"https://colab.research.google.com/assets/colab-badge.svg\" alt=\"Open In Colab\"/></a>"
      ]
    },
    {
      "cell_type": "code",
      "source": [
        "a = int(input())\n",
        "if a//100 < a//10%10 < a%10:\n",
        "    print('Да')\n",
        "else:\n",
        "    print('Нет')"
      ],
      "metadata": {
        "id": "E4kCvOKzsHqn"
      },
      "execution_count": null,
      "outputs": []
    }
  ]
}