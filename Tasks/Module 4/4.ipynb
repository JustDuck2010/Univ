{
  "nbformat": 4,
  "nbformat_minor": 0,
  "metadata": {
    "colab": {
      "provenance": [],
      "authorship_tag": "ABX9TyPn9zHe1k/B4uXP/b5y6Xk9",
      "include_colab_link": true
    },
    "kernelspec": {
      "name": "python3",
      "display_name": "Python 3"
    },
    "language_info": {
      "name": "python"
    }
  },
  "cells": [
    {
      "cell_type": "markdown",
      "metadata": {
        "id": "view-in-github",
        "colab_type": "text"
      },
      "source": [
        "<a href=\"https://colab.research.google.com/github/JustDuck2010/Univ/blob/main/Tasks/Module%204/4.ipynb\" target=\"_parent\"><img src=\"https://colab.research.google.com/assets/colab-badge.svg\" alt=\"Open In Colab\"/></a>"
      ]
    },
    {
      "cell_type": "code",
      "source": [
        "a = int(input())\n",
        "if 100 <= a <= 999:\n",
        "\tprint('Да')\n",
        "else:\n",
        "\tprint('Нет')"
      ],
      "metadata": {
        "id": "-b5GfY0r3lvH"
      },
      "execution_count": null,
      "outputs": []
    }
  ]
}