{
  "nbformat": 4,
  "nbformat_minor": 0,
  "metadata": {
    "colab": {
      "provenance": [],
      "authorship_tag": "ABX9TyMZXexnz6ZjZKC2YednTvl2",
      "include_colab_link": true
    },
    "kernelspec": {
      "name": "python3",
      "display_name": "Python 3"
    },
    "language_info": {
      "name": "python"
    }
  },
  "cells": [
    {
      "cell_type": "markdown",
      "metadata": {
        "id": "view-in-github",
        "colab_type": "text"
      },
      "source": [
        "<a href=\"https://colab.research.google.com/github/JustDuck2010/Univ/blob/main/Tasks/Module%205/8.ipynb\" target=\"_parent\"><img src=\"https://colab.research.google.com/assets/colab-badge.svg\" alt=\"Open In Colab\"/></a>"
      ]
    },
    {
      "cell_type": "code",
      "source": [
        "a = int(input())\n",
        "i = 1\n",
        "b = a\n",
        "max = 0\n",
        "while a > 0:\n",
        "\tif a == b:\n",
        "\t\ti += 1\n",
        "\t\tif i  > max:\n",
        "\t\t\tmax = i\n",
        "\telse:\n",
        "\t\ti = 1\n",
        "\tb = a\n",
        "\ta = int(input())\n",
        "print(max)"
      ],
      "metadata": {
        "id": "-b5GfY0r3lvH"
      },
      "execution_count": null,
      "outputs": []
    }
  ]
}