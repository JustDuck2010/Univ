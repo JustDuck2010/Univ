{
  "nbformat": 4,
  "nbformat_minor": 0,
  "metadata": {
    "colab": {
      "provenance": [],
      "authorship_tag": "ABX9TyNX9PBsFjzlzNw6vx09CDRZ",
      "include_colab_link": true
    },
    "kernelspec": {
      "name": "python3",
      "display_name": "Python 3"
    },
    "language_info": {
      "name": "python"
    }
  },
  "cells": [
    {
      "cell_type": "markdown",
      "metadata": {
        "id": "view-in-github",
        "colab_type": "text"
      },
      "source": [
        "<a href=\"https://colab.research.google.com/github/JustDuck2010/Univ/blob/main/Tasks/Module%205/6.ipynb\" target=\"_parent\"><img src=\"https://colab.research.google.com/assets/colab-badge.svg\" alt=\"Open In Colab\"/></a>"
      ]
    },
    {
      "cell_type": "code",
      "source": [
        "a =int(input())\n",
        "x = 0\n",
        "y = 1\n",
        "i = 0\n",
        "while i != a:\n",
        "    b = x + y\n",
        "    x = y\n",
        "    y = b\n",
        "    i += 1\n",
        "print(x)"
      ],
      "metadata": {
        "id": "-b5GfY0r3lvH"
      },
      "execution_count": null,
      "outputs": []
    }
  ]
}