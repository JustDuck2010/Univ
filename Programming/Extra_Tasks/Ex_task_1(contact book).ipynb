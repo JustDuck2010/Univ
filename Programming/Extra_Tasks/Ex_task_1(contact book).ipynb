{
  "nbformat": 4,
  "nbformat_minor": 0,
  "metadata": {
    "colab": {
      "provenance": [],
      "authorship_tag": "ABX9TyPYCmdcTkCaB1q3rkVwfIVQ",
      "include_colab_link": true
    },
    "kernelspec": {
      "name": "python3",
      "display_name": "Python 3"
    },
    "language_info": {
      "name": "python"
    }
  },
  "cells": [
    {
      "cell_type": "markdown",
      "metadata": {
        "id": "view-in-github",
        "colab_type": "text"
      },
      "source": [
        "<a href=\"https://colab.research.google.com/github/JustDuck2010/University/blob/main/Programming/Extra_Tasks/Ex_task_1(contact%20book).ipynb\" target=\"_parent\"><img src=\"https://colab.research.google.com/assets/colab-badge.svg\" alt=\"Open In Colab\"/></a>"
      ]
    },
    {
      "cell_type": "code",
      "execution_count": 9,
      "metadata": {
        "colab": {
          "base_uri": "https://localhost:8080/"
        },
        "id": "p3QCz6ywcX8C",
        "outputId": "3ac7a271-705d-427a-bba4-74c8ecd4cfca"
      },
      "outputs": [
        {
          "name": "stdout",
          "output_type": "stream",
          "text": [
            "Меню: \n",
            "1 - Добавить контакт\n",
            "2 - Удалить контакт\n",
            "3 - Показать книгу контактов \n",
            "4 - Поменять контакт\n",
            "\n",
            " 0 - Выход\n",
            "\n",
            "Введите число 1\n",
            "Введите через пробел имя и номер контакта (каждому имени может быть присвоен только один номер)\n",
            "Alex 89206359541\n",
            "Введите число 1\n",
            "Введите через пробел имя и номер контакта (каждому имени может быть присвоен только один номер)\n",
            "Bogdan 8706032548\n",
            "Введите число 1\n",
            "Введите через пробел имя и номер контакта (каждому имени может быть присвоен только один номер)\n",
            "Cion 89455115545\n",
            "Введите число 2\n",
            "Введите имя контакта, который хотите удалить\n",
            "Cion\n",
            "Контакт Cion удален\n",
            "Введите число 4\n",
            "Введите имя контакта, которому хотите поменять номер и новый номер\n",
            "Bogdan 84955112547\n",
            "Введите число 3\n",
            "Контакты:\n",
            "Alex: 89206359541\n",
            "Bogdan: 84955112547\n",
            "Введите число 0\n"
          ]
        }
      ],
      "source": [
        "cons = {} # Объявление пустого словаря\n",
        "num = 1\n",
        "print('Меню: \\n1 - Добавить контакт\\n2 - Удалить контакт\\n3 - Показать книгу контактов \\n4 - Поменять контакт\\n\\n 0 - Выход\\n')\n",
        "while num != 0:\n",
        "    num = int(input('Введите число '))\n",
        "    if num == 1:\n",
        "        a = input('Введите через пробел имя и номер контакта (каждому имени может быть присвоен только один номер)\\n').split()\n",
        "        cons[a[0]] = a[1]\n",
        "    if num == 2:\n",
        "        a = input('Введите имя контакта, который хотите удалить\\n')\n",
        "        del(cons[a])\n",
        "        print(f'Контакт {a} удален')\n",
        "    if num == 3:\n",
        "        print('Контакты:')\n",
        "        for x, y in cons.items():\n",
        "            print(f'{x}: {y}')\n",
        "    if num == 4:\n",
        "        a = input('Введите имя контакта, которому хотите поменять номер и новый номер\\n').split()\n",
        "        cons[a[0]] = a[1]"
      ]
    }
  ]
}